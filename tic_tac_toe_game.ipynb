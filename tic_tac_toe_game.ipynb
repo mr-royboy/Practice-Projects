{
  "nbformat": 4,
  "nbformat_minor": 0,
  "metadata": {
    "colab": {
      "provenance": [],
      "authorship_tag": "ABX9TyNpvYmt2k0z7M3S5FdaP+1i",
      "include_colab_link": true
    },
    "kernelspec": {
      "name": "python3",
      "display_name": "Python 3"
    },
    "language_info": {
      "name": "python"
    }
  },
  "cells": [
    {
      "cell_type": "markdown",
      "metadata": {
        "id": "view-in-github",
        "colab_type": "text"
      },
      "source": [
        "<a href=\"https://colab.research.google.com/github/mr-royboy/Practice-Projects/blob/main/tic_tac_toe_game.ipynb\" target=\"_parent\"><img src=\"https://colab.research.google.com/assets/colab-badge.svg\" alt=\"Open In Colab\"/></a>"
      ]
    },
    {
      "cell_type": "code",
      "source": [
        "!git clone https://github.com/mr-royboy/Practice-Projects.git"
      ],
      "metadata": {
        "colab": {
          "base_uri": "https://localhost:8080/"
        },
        "id": "BaZusKNDiUBK",
        "outputId": "07693dd7-ce1c-45f1-9732-af438536c34b"
      },
      "execution_count": 21,
      "outputs": [
        {
          "output_type": "stream",
          "name": "stdout",
          "text": [
            "Cloning into 'Practice-Projects'...\n",
            "warning: You appear to have cloned an empty repository.\n"
          ]
        }
      ]
    },
    {
      "cell_type": "code",
      "execution_count": 8,
      "metadata": {
        "id": "QhFzzQBsAx2W"
      },
      "outputs": [],
      "source": [
        "# Step 1: a function that can print a board\n",
        "\n",
        "from IPython.display import clear_output\n",
        "\n",
        "def display_board(board):\n",
        "  # it clears the output brfore running the function again as test_board to avoid compilation\n",
        "  clear_output()\n",
        "\n",
        "  print('   |   |   ')\n",
        "  print(board[7] + '  | ' + board[8] + ' | ' + board[9])\n",
        "  print('   |   |   ')\n",
        "  print('-----------')\n",
        "  print('   |   |   ')\n",
        "  print(board[4] + '  | ' + board[5] + ' | ' + board[6])\n",
        "  print('   |   |   ')\n",
        "  print('-----------')\n",
        "  print('   |   |   ')\n",
        "  print(board[1] + '  | ' + board[2] + ' | ' + board[3])\n",
        "  print('   |   |   ')"
      ]
    },
    {
      "cell_type": "code",
      "source": [
        "test_board = [\"#\", \"X\", \"O\", \"X\", \"O\", \"X\", \"O\", \"X\", \"O\", \"X\"]\n",
        "display_board(test_board)"
      ],
      "metadata": {
        "colab": {
          "base_uri": "https://localhost:8080/"
        },
        "id": "SkmXOlNiDH_q",
        "outputId": "0b08527a-fe02-4542-cda1-6fdb823a1114"
      },
      "execution_count": 5,
      "outputs": [
        {
          "output_type": "stream",
          "name": "stdout",
          "text": [
            "   |   |   \n",
            "X  | O | X\n",
            "   |   |   \n",
            "-----------\n",
            "   |   |   \n",
            "O  | X | O\n",
            "   |   |   \n",
            "-----------\n",
            "   |   |   \n",
            "X  | O | X\n",
            "   |   |   \n"
          ]
        }
      ]
    },
    {
      "cell_type": "code",
      "source": [
        "# Step 2: write a function that can take in a player input asnd assign their markers as \"O\" and \"X\"\n",
        "\n",
        "def player_input():\n",
        "\n",
        "  \"\"\"\n",
        "    OUTPUT = (Player1 marker, Player2 marker)\n",
        "\n",
        "  \"\"\"\n",
        "\n",
        "  marker = \"\"\n",
        "\n",
        "  while not (marker == \"X\" or marker == \"O\"):\n",
        "    marker = input(\"Please select X or O : \").upper()\n",
        "\n",
        "  if marker == \"X\":\n",
        "    return (\"X\", \"O\")\n",
        "\n",
        "  else:\n",
        "    return (\"O\", \"X\")"
      ],
      "metadata": {
        "id": "JNEK4GYqDrnY"
      },
      "execution_count": 9,
      "outputs": []
    },
    {
      "cell_type": "code",
      "source": [
        "# Step 3: a function that takes in the board list object, a marker 'X' or 'O' and a desired position number (number 1-9) and assigns it to the board\n",
        "\n",
        "def place_marker(board, marker, position):\n",
        "\n",
        "  board[position] = marker"
      ],
      "metadata": {
        "id": "xGXwvY79KjFu"
      },
      "execution_count": 10,
      "outputs": []
    },
    {
      "cell_type": "code",
      "source": [
        "# just to check if things are fine\n",
        "\n",
        "place_marker(test_board, \"@\", 5)\n",
        "display_board(test_board)"
      ],
      "metadata": {
        "colab": {
          "base_uri": "https://localhost:8080/"
        },
        "id": "xe3tBRB1L5N0",
        "outputId": "1f0e53b0-9703-40c7-d25a-2c37c27c0cef"
      },
      "execution_count": 29,
      "outputs": [
        {
          "output_type": "stream",
          "name": "stdout",
          "text": [
            "   |   |   \n",
            "X  | O | X\n",
            "   |   |   \n",
            "-----------\n",
            "   |   |   \n",
            "O  | @ | O\n",
            "   |   |   \n",
            "-----------\n",
            "   |   |   \n",
            "X  | O | X\n",
            "   |   |   \n"
          ]
        }
      ]
    },
    {
      "cell_type": "code",
      "source": [
        "# Step 4: a function that takes in a board and a mark (X and O) and then checks to see if that marker has won\n",
        "\n",
        "def win_check(board, mark):\n",
        "\n",
        "  # WIN TIC-TAC-TOE?\n",
        "\n",
        "  return((board[7] == mark and board[8] == mark and board[9] == mark) or # across the top (it can be written using and too, here as an example)\n",
        "  (board[4] == board[5] == board[6] == mark) or # across the middle\n",
        "  (board[1] == board[2] == board[3] == mark) or # across the bottom\n",
        "  (board[7] == board[4] == board[1] == mark) or # down the left\n",
        "  (board[8] == board[5] == board[2] == mark) or # down the middle\n",
        "  (board[9] == board[6] == board[3] == mark) or # down the right\n",
        "  (board[7] == board[5] == board[3] == mark) or # diagonal from the top left\n",
        "  (board[9] == board[5] == board[1] == mark))   # diagonal from the top right\n"
      ],
      "metadata": {
        "id": "QV6NGIqHMGmf"
      },
      "execution_count": 11,
      "outputs": []
    },
    {
      "cell_type": "code",
      "source": [
        "display_board(test_board)\n",
        "win_check(test_board, 'X')"
      ],
      "metadata": {
        "colab": {
          "base_uri": "https://localhost:8080/"
        },
        "id": "lKvqDbbugQFQ",
        "outputId": "ffeb0d14-4e58-4e31-d14f-914da61fa22d"
      },
      "execution_count": 10,
      "outputs": [
        {
          "output_type": "stream",
          "name": "stdout",
          "text": [
            "   |   |   \n",
            "X  | O | X\n",
            "   |   |   \n",
            "-----------\n",
            "   |   |   \n",
            "O  | X | O\n",
            "   |   |   \n",
            "-----------\n",
            "   |   |   \n",
            "X  | O | X\n",
            "   |   |   \n"
          ]
        },
        {
          "output_type": "execute_result",
          "data": {
            "text/plain": [
              "True"
            ]
          },
          "metadata": {},
          "execution_count": 10
        }
      ]
    },
    {
      "cell_type": "code",
      "source": [
        "# Step 5: a function that uses random module to randomly decide which player goes first\n",
        "\n",
        "import random\n",
        "\n",
        "def choose_first():\n",
        "\n",
        "  flip = random.randint(0, 1)\n",
        "\n",
        "  if flip == 0:\n",
        "    return \"Player 1\"\n",
        "  else:\n",
        "    return \"Player 2\""
      ],
      "metadata": {
        "id": "WwcGfH9ug6dw"
      },
      "execution_count": 12,
      "outputs": []
    },
    {
      "cell_type": "code",
      "source": [
        "# Step 6: a function that returns a boolean indicating whether a space on the board is freely available\n",
        "\n",
        "def space_check(board, position):\n",
        "\n",
        "  return board[position] == \" \""
      ],
      "metadata": {
        "id": "VnDAw7WxjD89"
      },
      "execution_count": 13,
      "outputs": []
    },
    {
      "cell_type": "code",
      "source": [
        "# Step 7: a function that checks if the board is full and returns a boolean value\n",
        "\n",
        "def full_board_check(board):\n",
        "\n",
        "  # since there are 9 spaces hence we use range(1, 10)\n",
        "  for i in range(1,10):\n",
        "    if space_check(board, i):\n",
        "    # using i above as all positions, with reference from the previous code\n",
        "      return False\n",
        "\n",
        "  # board is full if we return True\n",
        "  return True"
      ],
      "metadata": {
        "id": "U8TEjAPRm-1r"
      },
      "execution_count": 14,
      "outputs": []
    },
    {
      "cell_type": "code",
      "source": [
        "# Step 8: a function that asks for player's next position (as a number 1-9) and then uses the function from step 6 to chek if it's a free position.\n",
        "\n",
        "def player_choice(board):\n",
        "\n",
        "  position = 0\n",
        "\n",
        "  #checking position not in the spots, after checking if the board is full from the previous step\n",
        "  while position not in [1, 2, 3, 4, 5, 6, 7, 8, 9] or not space_check(board, position):\n",
        "    position = int(input(\"Choose a position: (1-9) \"))\n",
        "\n",
        "    return position"
      ],
      "metadata": {
        "id": "l4RgjYjJo24y"
      },
      "execution_count": 15,
      "outputs": []
    },
    {
      "cell_type": "code",
      "source": [
        "# Step 9: a function that asks if the player if they want to play again and returns a boolean\n",
        "\n",
        "def replay():\n",
        "\n",
        "  choice = input(\"Play again? Enter Yes or No\")\n",
        "\n",
        "  return choice == \"Yes\""
      ],
      "metadata": {
        "id": "I3yYhZu20HAh"
      },
      "execution_count": 16,
      "outputs": []
    },
    {
      "cell_type": "code",
      "source": [
        "# Step 10: use while loops and the functions that we have made to run the game\n",
        "\n",
        "# WHILE LOOP TO KEEP THE TIC-TAC-TOE GAME RUNNING\n",
        "print(\"Welcome to the TIC-TAC-TOE Game!\")\n",
        "\n",
        "while True:\n",
        "  # PLAY THE GAME\n",
        "\n",
        "  ## SETTING EVERYTHING UP (BOARD, WHO'S FIRST, CHOOSE MARKERS[X,O])\n",
        "\n",
        "  the_board = [\" \"]*10\n",
        "  player1_marker,player2_marker = player_input()\n",
        "\n",
        "  turn = choose_first()\n",
        "  print(turn + \" will go first\")\n",
        "\n",
        "  play_game = input(\"Ready to Play? y or n  \")\n",
        "\n",
        "  if play_game == \"y\":\n",
        "    game_on = True\n",
        "  else:\n",
        "    game_on = False\n",
        "\n",
        "  ## GAMEPLAY\n",
        "\n",
        "  while game_on:\n",
        "\n",
        "    if turn == \"Player 1\":\n",
        "\n",
        "      # show the board\n",
        "\n",
        "      display_board(the_board)\n",
        "\n",
        "      # choose a position\n",
        "\n",
        "      position = player_choice(the_board)\n",
        "\n",
        "      # place a marker\n",
        "\n",
        "      place_marker(the_board, player1_marker, position)\n",
        "\n",
        "      # check if won\n",
        "\n",
        "      if win_check(the_board, player1_marker):\n",
        "        display_board(the_board)\n",
        "        print(\"Player 1 has Won!\")\n",
        "        game_on = False\n",
        "\n",
        "      # or check if it's a tie\n",
        "      else:\n",
        "        if full_board_check(the_board):\n",
        "            display_board(the_board)\n",
        "            print(\"It's a Tie.\")\n",
        "            game_on = False\n",
        "\n",
        "        else:\n",
        "            turn = \"Player 2\"\n",
        "\n",
        "      # player 2 turn and the same process follows\n",
        "\n",
        "    else:\n",
        "\n",
        "      # show the board\n",
        "\n",
        "      display_board(the_board)\n",
        "\n",
        "      # choose a position\n",
        "\n",
        "      position = player_choice(the_board)\n",
        "\n",
        "      # place a marker\n",
        "\n",
        "      place_marker(the_board, player2_marker, position)\n",
        "\n",
        "      # check if won\n",
        "\n",
        "      if win_check(the_board, player2_marker):\n",
        "        display_board(the_board)\n",
        "        print(\"Player 2 has Won!\")\n",
        "        game_on = False\n",
        "\n",
        "      else:\n",
        "        if full_board_check(the_board):\n",
        "          display_board(the_board)\n",
        "          print(\"It's a Tie.\")\n",
        "          game_on = False\n",
        "\n",
        "        else:\n",
        "          turn = \"Player 1\"\n",
        "\n",
        "\n",
        "\n",
        "      # if tie and no win then it's next player's turn\n",
        "\n",
        "  ### PLAYER 1 TURN\n",
        "\n",
        "  ### PLAYER 2 TURN\n",
        "\n",
        "  if not replay():\n",
        "    break\n",
        "    # BREAK OUT OF THE WHILE LOOP ON replay()"
      ],
      "metadata": {
        "colab": {
          "base_uri": "https://localhost:8080/"
        },
        "id": "x15uePPt1SOz",
        "outputId": "0fd2b43f-6474-46a9-a926-be0a7412313b"
      },
      "execution_count": 20,
      "outputs": [
        {
          "name": "stdout",
          "output_type": "stream",
          "text": [
            "   |   |   \n",
            "X  | X | O\n",
            "   |   |   \n",
            "-----------\n",
            "   |   |   \n",
            "O  | X | X\n",
            "   |   |   \n",
            "-----------\n",
            "   |   |   \n",
            "X  | O | O\n",
            "   |   |   \n",
            "It's a Tie.\n",
            "Play again? Enter Yes or Nono\n"
          ]
        }
      ]
    },
    {
      "cell_type": "code",
      "source": [
        "\n"
      ],
      "metadata": {
        "id": "aTxFUxt9cXJ2"
      },
      "execution_count": 17,
      "outputs": []
    }
  ]
}