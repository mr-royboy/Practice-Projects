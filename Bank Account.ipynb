{
 "cells": [
  {
   "cell_type": "code",
   "execution_count": 6,
   "id": "60f3ea9d-47ad-4c04-9525-119eb4c9262e",
   "metadata": {},
   "outputs": [],
   "source": [
    "class Account():\n",
    "\n",
    "    def __init__(self, owner, balance):\n",
    "        self.owner = owner\n",
    "        self.balance = balance\n",
    "\n",
    "    def deposit(self, dep_amount):\n",
    "\n",
    "        self.balance = self.balance + dep_amount\n",
    "        print(f\"An amount of {dep_amount} rupees has been deposited to your account, your balance is {self.balance} rupees.\")\n",
    "\n",
    "    def withdrawl(self, wd_amount):\n",
    "\n",
    "        if self.balance >= wd_amount:\n",
    "            self.balance = self.balance - wd_amount\n",
    "            print(f\"Rupees {wd_amount} has been withdrawn, your balance is {self.balance}\")\n",
    "\n",
    "        else:\n",
    "            print(\"Insufficient funds!\")\n",
    "\n",
    "    def __str__(self):\n",
    "\n",
    "        return f\"Owner : {self.owner} \\nBalance : {self.balance}\""
   ]
  },
  {
   "cell_type": "code",
   "execution_count": 7,
   "id": "a035cdd4-da93-41f6-af25-8db939e639be",
   "metadata": {},
   "outputs": [],
   "source": [
    "a = Account(\"Firmino\", 1000)"
   ]
  },
  {
   "cell_type": "code",
   "execution_count": 8,
   "id": "8a48eeec-f1a6-46e5-a609-33b9344c8ede",
   "metadata": {},
   "outputs": [
    {
     "data": {
      "text/plain": [
       "1000"
      ]
     },
     "execution_count": 8,
     "metadata": {},
     "output_type": "execute_result"
    }
   ],
   "source": [
    "a.balance"
   ]
  },
  {
   "cell_type": "code",
   "execution_count": 9,
   "id": "fb5ec639-91a9-4b5d-a6f7-0d2850432b1e",
   "metadata": {},
   "outputs": [
    {
     "name": "stdout",
     "output_type": "stream",
     "text": [
      "An amount of 500 rupees has been deposited to your account, your balance is 1500 rupees.\n"
     ]
    }
   ],
   "source": [
    "a.deposit(500)"
   ]
  },
  {
   "cell_type": "code",
   "execution_count": 10,
   "id": "a5c486c6-fb3a-4c4b-b1d0-349814e8ee9e",
   "metadata": {},
   "outputs": [
    {
     "name": "stdout",
     "output_type": "stream",
     "text": [
      "Insufficient funds!\n"
     ]
    }
   ],
   "source": [
    "a.withdrawl(2000)"
   ]
  },
  {
   "cell_type": "code",
   "execution_count": 11,
   "id": "d4258b12-f47e-487b-adf6-fe28f625fc95",
   "metadata": {},
   "outputs": [
    {
     "name": "stdout",
     "output_type": "stream",
     "text": [
      "Rupees 800 has been withdrawn, your balance is 700\n"
     ]
    }
   ],
   "source": [
    "a.withdrawl(800)"
   ]
  },
  {
   "cell_type": "code",
   "execution_count": 12,
   "id": "6fd4e1e7-76be-4a3b-80bb-cee1e040ae4e",
   "metadata": {},
   "outputs": [
    {
     "name": "stdout",
     "output_type": "stream",
     "text": [
      "Owner : Firmino \n",
      "Balance : 700\n"
     ]
    }
   ],
   "source": [
    "print(a)"
   ]
  },
  {
   "cell_type": "code",
   "execution_count": null,
   "id": "f99027b8-4d18-4144-97a6-bb992e43b345",
   "metadata": {},
   "outputs": [],
   "source": []
  }
 ],
 "metadata": {
  "kernelspec": {
   "display_name": "Python 3 (ipykernel)",
   "language": "python",
   "name": "python3"
  },
  "language_info": {
   "codemirror_mode": {
    "name": "ipython",
    "version": 3
   },
   "file_extension": ".py",
   "mimetype": "text/x-python",
   "name": "python",
   "nbconvert_exporter": "python",
   "pygments_lexer": "ipython3",
   "version": "3.12.4"
  }
 },
 "nbformat": 4,
 "nbformat_minor": 5
}
